{
 "cells": [
  {
   "cell_type": "markdown",
   "id": "832116a3",
   "metadata": {},
   "source": [
    "# Spam Email Classifier using Python and Streamlit"
   ]
  },
  {
   "cell_type": "code",
   "execution_count": null,
   "id": "c403aad2",
   "metadata": {},
   "outputs": [],
   "source": [
    "\n",
    "# Importing necessary libraries\n",
    "import pandas as pd\n",
    "from sklearn.model_selection import train_test_split\n",
    "from sklearn.feature_extraction.text import TfidfVectorizer\n",
    "from sklearn.naive_bayes import MultinomialNB\n",
    "from sklearn.metrics import accuracy_score, confusion_matrix\n",
    "import streamlit as st\n",
    "    "
   ]
  },
  {
   "cell_type": "markdown",
   "id": "51dc7d60",
   "metadata": {},
   "source": [
    "## Loading and Exploring the Dataset"
   ]
  },
  {
   "cell_type": "code",
   "execution_count": null,
   "id": "8c2ebbae",
   "metadata": {},
   "outputs": [],
   "source": [
    "\n",
    "# Load the dataset (ensure 'spam.csv' is placed in the same directory)\n",
    "df = pd.read_csv('spam.csv', encoding='latin-1')\n",
    "\n",
    "# Display first few rows to check the data\n",
    "df = df[['v1', 'v2']]\n",
    "df.columns = ['label', 'message']  # Rename columns for easier access\n",
    "df.head()\n",
    "    "
   ]
  },
  {
   "cell_type": "markdown",
   "id": "02dffd48",
   "metadata": {},
   "source": [
    "## Data Preprocessing"
   ]
  },
  {
   "cell_type": "code",
   "execution_count": null,
   "id": "6704c16d",
   "metadata": {},
   "outputs": [],
   "source": [
    "\n",
    "# Convert the label column to binary (spam: 1, ham: 0)\n",
    "df['label'] = df['label'].map({'spam': 1, 'ham': 0})\n",
    "\n",
    "# Splitting the dataset into training and testing sets\n",
    "X = df['message']\n",
    "y = df['label']\n",
    "X_train, X_test, y_train, y_test = train_test_split(X, y, test_size=0.2, random_state=42)\n",
    "    "
   ]
  },
  {
   "cell_type": "markdown",
   "id": "e21d2ca4",
   "metadata": {},
   "source": [
    "## Feature Extraction using TF-IDF"
   ]
  },
  {
   "cell_type": "code",
   "execution_count": null,
   "id": "1142f455",
   "metadata": {},
   "outputs": [],
   "source": [
    "\n",
    "# Convert text into TF-IDF feature vectors\n",
    "tfidf = TfidfVectorizer(max_features=2500)\n",
    "X_train_tfidf = tfidf.fit_transform(X_train)\n",
    "X_test_tfidf = tfidf.transform(X_test)\n",
    "    "
   ]
  },
  {
   "cell_type": "markdown",
   "id": "a323acc5",
   "metadata": {},
   "source": [
    "## Model Building - Naive Bayes Classifier"
   ]
  },
  {
   "cell_type": "code",
   "execution_count": null,
   "id": "9116e856",
   "metadata": {},
   "outputs": [],
   "source": [
    "\n",
    "# Build a Naive Bayes classifier\n",
    "model = MultinomialNB()\n",
    "model.fit(X_train_tfidf, y_train)\n",
    "\n",
    "# Make predictions\n",
    "y_pred = model.predict(X_test_tfidf)\n",
    "\n",
    "# Evaluate the model\n",
    "accuracy = accuracy_score(y_test, y_pred)\n",
    "cm = confusion_matrix(y_test, y_pred)\n",
    "\n",
    "st.write(f\"Accuracy: {accuracy:.2f}\")\n",
    "st.write(\"Confusion Matrix:\", cm)\n",
    "    "
   ]
  },
  {
   "cell_type": "markdown",
   "id": "71ad3da2",
   "metadata": {},
   "source": [
    "## Streamlit Interface"
   ]
  },
  {
   "cell_type": "code",
   "execution_count": null,
   "id": "c2bb95ca",
   "metadata": {},
   "outputs": [],
   "source": [
    "\n",
    "# Streamlit UI for prediction\n",
    "st.title(\"Spam Classifier\")\n",
    "\n",
    "# Input message from the user\n",
    "user_input = st.text_area(\"Enter the message to classify\")\n",
    "\n",
    "# When the button is clicked, classify the message\n",
    "if st.button(\"Classify\"):\n",
    "    input_tfidf = tfidf.transform([user_input])  # Transform the input\n",
    "    prediction = model.predict(input_tfidf)[0]  # Predict using the trained model\n",
    "    label = 'Spam' if prediction == 1 else 'Ham'\n",
    "    st.write(f\"The message is: {label}\")\n",
    "    "
   ]
  }
 ],
 "metadata": {},
 "nbformat": 4,
 "nbformat_minor": 5
}
